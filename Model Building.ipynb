{
 "cells": [
  {
   "cell_type": "code",
   "execution_count": 1,
   "metadata": {
    "ExecuteTime": {
     "end_time": "2020-06-16T09:33:59.349301Z",
     "start_time": "2020-06-16T09:33:58.025842Z"
    }
   },
   "outputs": [],
   "source": [
    "import numpy as np\n",
    "import pandas as pd\n",
    "import matplotlib.pyplot as plt\n",
    "import seaborn as sns\n",
    "from scipy.io import arff\n",
    "%matplotlib inline\n",
    "\n",
    "# Train_Test_Split\n",
    "from sklearn.model_selection import train_test_split\n",
    "\n",
    "# Machine Learning\n",
    "from sklearn.linear_model import LogisticRegression\n",
    "from sklearn.tree import DecisionTreeClassifier\n",
    "from sklearn.ensemble import RandomForestClassifier, AdaBoostClassifier, BaggingClassifier, GradientBoostingClassifier\n",
    "from xgboost import XGBClassifier, plot_importance\n",
    "\n",
    "# Misc\n",
    "from imblearn.over_sampling import SMOTE\n",
    "from imblearn.under_sampling import NearMiss\n",
    "from sklearn.metrics import classification_report, confusion_matrix, recall_score, accuracy_score\n",
    "from sklearn.preprocessing import StandardScaler, MinMaxScaler, RobustScaler"
   ]
  },
  {
   "cell_type": "code",
   "execution_count": 2,
   "metadata": {
    "ExecuteTime": {
     "end_time": "2020-06-16T09:33:59.634561Z",
     "start_time": "2020-06-16T09:33:59.350296Z"
    }
   },
   "outputs": [
    {
     "data": {
      "text/html": [
       "<div>\n",
       "<style scoped>\n",
       "    .dataframe tbody tr th:only-of-type {\n",
       "        vertical-align: middle;\n",
       "    }\n",
       "\n",
       "    .dataframe tbody tr th {\n",
       "        vertical-align: top;\n",
       "    }\n",
       "\n",
       "    .dataframe thead th {\n",
       "        text-align: right;\n",
       "    }\n",
       "</style>\n",
       "<table border=\"1\" class=\"dataframe\">\n",
       "  <thead>\n",
       "    <tr style=\"text-align: right;\">\n",
       "      <th></th>\n",
       "      <th>Attr1</th>\n",
       "      <th>Attr2</th>\n",
       "      <th>Attr3</th>\n",
       "      <th>Attr4</th>\n",
       "      <th>Attr5</th>\n",
       "      <th>Attr6</th>\n",
       "      <th>Attr7</th>\n",
       "      <th>Attr8</th>\n",
       "      <th>Attr9</th>\n",
       "      <th>Attr10</th>\n",
       "      <th>...</th>\n",
       "      <th>Attr56</th>\n",
       "      <th>Attr57</th>\n",
       "      <th>Attr58</th>\n",
       "      <th>Attr59</th>\n",
       "      <th>Attr60</th>\n",
       "      <th>Attr61</th>\n",
       "      <th>Attr62</th>\n",
       "      <th>Attr63</th>\n",
       "      <th>Attr64</th>\n",
       "      <th>class</th>\n",
       "    </tr>\n",
       "  </thead>\n",
       "  <tbody>\n",
       "    <tr>\n",
       "      <th>0</th>\n",
       "      <td>0.030372</td>\n",
       "      <td>0.874460</td>\n",
       "      <td>0.081671</td>\n",
       "      <td>1.09500</td>\n",
       "      <td>-76.581</td>\n",
       "      <td>0.00000</td>\n",
       "      <td>0.038522</td>\n",
       "      <td>0.143570</td>\n",
       "      <td>1.9677</td>\n",
       "      <td>0.125540</td>\n",
       "      <td>...</td>\n",
       "      <td>0.001575</td>\n",
       "      <td>0.24192</td>\n",
       "      <td>0.97971</td>\n",
       "      <td>0.034768</td>\n",
       "      <td>4.0379</td>\n",
       "      <td>4.6154</td>\n",
       "      <td>159.520</td>\n",
       "      <td>2.2881</td>\n",
       "      <td>33.7230</td>\n",
       "      <td>1</td>\n",
       "    </tr>\n",
       "    <tr>\n",
       "      <th>1</th>\n",
       "      <td>0.032686</td>\n",
       "      <td>0.827750</td>\n",
       "      <td>0.020096</td>\n",
       "      <td>1.05040</td>\n",
       "      <td>-41.614</td>\n",
       "      <td>0.00000</td>\n",
       "      <td>0.041231</td>\n",
       "      <td>0.208090</td>\n",
       "      <td>1.0546</td>\n",
       "      <td>0.172250</td>\n",
       "      <td>...</td>\n",
       "      <td>0.041392</td>\n",
       "      <td>0.18977</td>\n",
       "      <td>0.96152</td>\n",
       "      <td>1.415700</td>\n",
       "      <td>9.4101</td>\n",
       "      <td>3.9256</td>\n",
       "      <td>137.870</td>\n",
       "      <td>2.6474</td>\n",
       "      <td>1.8134</td>\n",
       "      <td>1</td>\n",
       "    </tr>\n",
       "    <tr>\n",
       "      <th>2</th>\n",
       "      <td>0.649890</td>\n",
       "      <td>0.098723</td>\n",
       "      <td>0.483760</td>\n",
       "      <td>5.90020</td>\n",
       "      <td>264.600</td>\n",
       "      <td>0.00000</td>\n",
       "      <td>0.815270</td>\n",
       "      <td>9.128800</td>\n",
       "      <td>1.4604</td>\n",
       "      <td>0.901230</td>\n",
       "      <td>...</td>\n",
       "      <td>0.557580</td>\n",
       "      <td>0.72112</td>\n",
       "      <td>0.44213</td>\n",
       "      <td>0.000000</td>\n",
       "      <td>9.7917</td>\n",
       "      <td>5.1698</td>\n",
       "      <td>24.673</td>\n",
       "      <td>14.7930</td>\n",
       "      <td>3.4984</td>\n",
       "      <td>1</td>\n",
       "    </tr>\n",
       "    <tr>\n",
       "      <th>3</th>\n",
       "      <td>0.075803</td>\n",
       "      <td>0.760570</td>\n",
       "      <td>-0.199050</td>\n",
       "      <td>0.51163</td>\n",
       "      <td>-57.769</td>\n",
       "      <td>0.00000</td>\n",
       "      <td>0.089522</td>\n",
       "      <td>0.314760</td>\n",
       "      <td>1.6573</td>\n",
       "      <td>0.239400</td>\n",
       "      <td>...</td>\n",
       "      <td>0.239020</td>\n",
       "      <td>0.31664</td>\n",
       "      <td>0.78417</td>\n",
       "      <td>1.196100</td>\n",
       "      <td>35.6190</td>\n",
       "      <td>10.8850</td>\n",
       "      <td>89.765</td>\n",
       "      <td>4.0662</td>\n",
       "      <td>2.0941</td>\n",
       "      <td>1</td>\n",
       "    </tr>\n",
       "    <tr>\n",
       "      <th>4</th>\n",
       "      <td>-0.179970</td>\n",
       "      <td>0.953480</td>\n",
       "      <td>-0.346650</td>\n",
       "      <td>0.63643</td>\n",
       "      <td>-207.040</td>\n",
       "      <td>-0.43095</td>\n",
       "      <td>-0.179970</td>\n",
       "      <td>0.048788</td>\n",
       "      <td>1.1999</td>\n",
       "      <td>0.046519</td>\n",
       "      <td>...</td>\n",
       "      <td>0.026425</td>\n",
       "      <td>-3.86880</td>\n",
       "      <td>0.96751</td>\n",
       "      <td>0.000000</td>\n",
       "      <td>2.9261</td>\n",
       "      <td>6.1379</td>\n",
       "      <td>290.030</td>\n",
       "      <td>1.2585</td>\n",
       "      <td>3.0519</td>\n",
       "      <td>1</td>\n",
       "    </tr>\n",
       "  </tbody>\n",
       "</table>\n",
       "<p>5 rows × 64 columns</p>\n",
       "</div>"
      ],
      "text/plain": [
       "      Attr1     Attr2     Attr3    Attr4    Attr5    Attr6     Attr7  \\\n",
       "0  0.030372  0.874460  0.081671  1.09500  -76.581  0.00000  0.038522   \n",
       "1  0.032686  0.827750  0.020096  1.05040  -41.614  0.00000  0.041231   \n",
       "2  0.649890  0.098723  0.483760  5.90020  264.600  0.00000  0.815270   \n",
       "3  0.075803  0.760570 -0.199050  0.51163  -57.769  0.00000  0.089522   \n",
       "4 -0.179970  0.953480 -0.346650  0.63643 -207.040 -0.43095 -0.179970   \n",
       "\n",
       "      Attr8   Attr9    Attr10  ...    Attr56   Attr57   Attr58    Attr59  \\\n",
       "0  0.143570  1.9677  0.125540  ...  0.001575  0.24192  0.97971  0.034768   \n",
       "1  0.208090  1.0546  0.172250  ...  0.041392  0.18977  0.96152  1.415700   \n",
       "2  9.128800  1.4604  0.901230  ...  0.557580  0.72112  0.44213  0.000000   \n",
       "3  0.314760  1.6573  0.239400  ...  0.239020  0.31664  0.78417  1.196100   \n",
       "4  0.048788  1.1999  0.046519  ...  0.026425 -3.86880  0.96751  0.000000   \n",
       "\n",
       "    Attr60   Attr61   Attr62   Attr63   Attr64  class  \n",
       "0   4.0379   4.6154  159.520   2.2881  33.7230      1  \n",
       "1   9.4101   3.9256  137.870   2.6474   1.8134      1  \n",
       "2   9.7917   5.1698   24.673  14.7930   3.4984      1  \n",
       "3  35.6190  10.8850   89.765   4.0662   2.0941      1  \n",
       "4   2.9261   6.1379  290.030   1.2585   3.0519      1  \n",
       "\n",
       "[5 rows x 64 columns]"
      ]
     },
     "execution_count": 2,
     "metadata": {},
     "output_type": "execute_result"
    }
   ],
   "source": [
    "data = pd.read_csv('data.csv')\n",
    "data.head()"
   ]
  },
  {
   "cell_type": "code",
   "execution_count": 3,
   "metadata": {
    "ExecuteTime": {
     "end_time": "2020-06-16T09:33:59.666450Z",
     "start_time": "2020-06-16T09:33:59.635533Z"
    }
   },
   "outputs": [
    {
     "name": "stdout",
     "output_type": "stream",
     "text": [
      "<class 'pandas.core.frame.DataFrame'>\n",
      "RangeIndex: 43405 entries, 0 to 43404\n",
      "Data columns (total 64 columns):\n",
      " #   Column  Non-Null Count  Dtype  \n",
      "---  ------  --------------  -----  \n",
      " 0   Attr1   43405 non-null  float64\n",
      " 1   Attr2   43405 non-null  float64\n",
      " 2   Attr3   43405 non-null  float64\n",
      " 3   Attr4   43405 non-null  float64\n",
      " 4   Attr5   43405 non-null  float64\n",
      " 5   Attr6   43405 non-null  float64\n",
      " 6   Attr7   43405 non-null  float64\n",
      " 7   Attr8   43405 non-null  float64\n",
      " 8   Attr9   43405 non-null  float64\n",
      " 9   Attr10  43405 non-null  float64\n",
      " 10  Attr11  43405 non-null  float64\n",
      " 11  Attr12  43405 non-null  float64\n",
      " 12  Attr13  43405 non-null  float64\n",
      " 13  Attr14  43405 non-null  float64\n",
      " 14  Attr15  43405 non-null  float64\n",
      " 15  Attr16  43405 non-null  float64\n",
      " 16  Attr17  43405 non-null  float64\n",
      " 17  Attr18  43405 non-null  float64\n",
      " 18  Attr19  43405 non-null  float64\n",
      " 19  Attr20  43405 non-null  float64\n",
      " 20  Attr21  43405 non-null  float64\n",
      " 21  Attr22  43405 non-null  float64\n",
      " 22  Attr23  43405 non-null  float64\n",
      " 23  Attr24  43405 non-null  float64\n",
      " 24  Attr25  43405 non-null  float64\n",
      " 25  Attr26  43405 non-null  float64\n",
      " 26  Attr27  43405 non-null  float64\n",
      " 27  Attr28  43405 non-null  float64\n",
      " 28  Attr29  43405 non-null  float64\n",
      " 29  Attr30  43405 non-null  float64\n",
      " 30  Attr31  43405 non-null  float64\n",
      " 31  Attr32  43405 non-null  float64\n",
      " 32  Attr33  43405 non-null  float64\n",
      " 33  Attr34  43405 non-null  float64\n",
      " 34  Attr35  43405 non-null  float64\n",
      " 35  Attr36  43405 non-null  float64\n",
      " 36  Attr38  43405 non-null  float64\n",
      " 37  Attr39  43405 non-null  float64\n",
      " 38  Attr40  43405 non-null  float64\n",
      " 39  Attr41  43405 non-null  float64\n",
      " 40  Attr42  43405 non-null  float64\n",
      " 41  Attr43  43405 non-null  float64\n",
      " 42  Attr44  43405 non-null  float64\n",
      " 43  Attr45  43405 non-null  float64\n",
      " 44  Attr46  43405 non-null  float64\n",
      " 45  Attr47  43405 non-null  float64\n",
      " 46  Attr48  43405 non-null  float64\n",
      " 47  Attr49  43405 non-null  float64\n",
      " 48  Attr50  43405 non-null  float64\n",
      " 49  Attr51  43405 non-null  float64\n",
      " 50  Attr52  43405 non-null  float64\n",
      " 51  Attr53  43405 non-null  float64\n",
      " 52  Attr54  43405 non-null  float64\n",
      " 53  Attr55  43405 non-null  float64\n",
      " 54  Attr56  43405 non-null  float64\n",
      " 55  Attr57  43405 non-null  float64\n",
      " 56  Attr58  43405 non-null  float64\n",
      " 57  Attr59  43405 non-null  float64\n",
      " 58  Attr60  43405 non-null  float64\n",
      " 59  Attr61  43405 non-null  float64\n",
      " 60  Attr62  43405 non-null  float64\n",
      " 61  Attr63  43405 non-null  float64\n",
      " 62  Attr64  43405 non-null  float64\n",
      " 63  class   43405 non-null  int64  \n",
      "dtypes: float64(63), int64(1)\n",
      "memory usage: 21.2 MB\n"
     ]
    }
   ],
   "source": [
    "data.info()"
   ]
  },
  {
   "cell_type": "code",
   "execution_count": 4,
   "metadata": {
    "ExecuteTime": {
     "end_time": "2020-06-16T09:33:59.683405Z",
     "start_time": "2020-06-16T09:33:59.667467Z"
    }
   },
   "outputs": [],
   "source": [
    "x = data.drop(['class'], axis = 1)\n",
    "y = data['class']"
   ]
  },
  {
   "cell_type": "code",
   "execution_count": 5,
   "metadata": {
    "ExecuteTime": {
     "end_time": "2020-06-16T09:33:59.792192Z",
     "start_time": "2020-06-16T09:33:59.684403Z"
    }
   },
   "outputs": [],
   "source": [
    "scaler = RobustScaler()\n",
    "scaled = scaler.fit_transform(x)\n",
    "x_scl = pd.DataFrame(data = scaled, columns = x.columns)"
   ]
  },
  {
   "cell_type": "code",
   "execution_count": 6,
   "metadata": {
    "ExecuteTime": {
     "end_time": "2020-06-16T09:33:59.821121Z",
     "start_time": "2020-06-16T09:33:59.793111Z"
    }
   },
   "outputs": [],
   "source": [
    "x_train, x_test, y_train, y_test = train_test_split(x_scl, y, test_size = 0.2, random_state = 101)"
   ]
  },
  {
   "cell_type": "code",
   "execution_count": 7,
   "metadata": {
    "ExecuteTime": {
     "end_time": "2020-06-16T09:35:55.085296Z",
     "start_time": "2020-06-16T09:33:59.822035Z"
    },
    "scrolled": false
   },
   "outputs": [
    {
     "name": "stderr",
     "output_type": "stream",
     "text": [
      "C:\\Users\\Dani\\anaconda3\\lib\\site-packages\\sklearn\\linear_model\\_logistic.py:764: ConvergenceWarning: lbfgs failed to converge (status=1):\n",
      "STOP: TOTAL NO. of ITERATIONS REACHED LIMIT.\n",
      "\n",
      "Increase the number of iterations (max_iter) or scale the data as shown in:\n",
      "    https://scikit-learn.org/stable/modules/preprocessing.html\n",
      "Please also refer to the documentation for alternative solver options:\n",
      "    https://scikit-learn.org/stable/modules/linear_model.html#logistic-regression\n",
      "  extra_warning_msg=_LOGISTIC_SOLVER_CONVERGENCE_MSG)\n"
     ]
    }
   ],
   "source": [
    "trial_lr = LogisticRegression()\n",
    "trial_dt = DecisionTreeClassifier()\n",
    "trial_rf = RandomForestClassifier()\n",
    "trial_ada = AdaBoostClassifier(base_estimator = trial_dt)\n",
    "trial_gb = GradientBoostingClassifier()\n",
    "trial_bc = BaggingClassifier(base_estimator = trial_dt)\n",
    "trial_xgb = XGBClassifier()\n",
    "\n",
    "trial_lr.fit(x_train, y_train)\n",
    "trial_dt.fit(x_train, y_train)\n",
    "trial_rf.fit(x_train, y_train)\n",
    "trial_ada.fit(x_train, y_train)\n",
    "trial_gb.fit(x_train, y_train)\n",
    "trial_bc.fit(x_train, y_train)\n",
    "trial_xgb.fit(x_train, y_train)\n",
    "\n",
    "\n",
    "trial_lr_predict = trial_lr.predict(x_test)\n",
    "trial_dt_predict = trial_dt.predict(x_test)\n",
    "trial_rf_predict = trial_rf.predict(x_test)\n",
    "trial_ada_predict = trial_ada.predict(x_test)\n",
    "trial_gb_predict = trial_gb.predict(x_test)\n",
    "trial_bc_predict = trial_bc.predict(x_test)\n",
    "trial_xgb_predict = trial_xgb.predict(x_test)"
   ]
  },
  {
   "cell_type": "code",
   "execution_count": 8,
   "metadata": {
    "ExecuteTime": {
     "end_time": "2020-06-16T09:35:55.259829Z",
     "start_time": "2020-06-16T09:35:55.088288Z"
    }
   },
   "outputs": [
    {
     "name": "stdout",
     "output_type": "stream",
     "text": [
      "LogisticRegression\n",
      "[[7643  609]\n",
      " [ 349   80]]\n",
      "              precision    recall  f1-score   support\n",
      "\n",
      "           0       0.96      0.93      0.94      8252\n",
      "           1       0.12      0.19      0.14       429\n",
      "\n",
      "    accuracy                           0.89      8681\n",
      "   macro avg       0.54      0.56      0.54      8681\n",
      "weighted avg       0.91      0.89      0.90      8681\n",
      "\n",
      "~~~~~~~~~~~~~~~~~~~~~~~~~~~~~~~~~~~~~~~~~~~~~~~~~~~~~~~~~~~~~~~~~~~~~~~~~~~~~~~~~~~~~~~~~~~~~~~~~~~~~~~~~~~~~~~~~~~~~~~~~~~~~\n",
      "DecisionTreeClassifier\n",
      "[[8089  163]\n",
      " [ 155  274]]\n",
      "              precision    recall  f1-score   support\n",
      "\n",
      "           0       0.98      0.98      0.98      8252\n",
      "           1       0.63      0.64      0.63       429\n",
      "\n",
      "    accuracy                           0.96      8681\n",
      "   macro avg       0.80      0.81      0.81      8681\n",
      "weighted avg       0.96      0.96      0.96      8681\n",
      "\n",
      "~~~~~~~~~~~~~~~~~~~~~~~~~~~~~~~~~~~~~~~~~~~~~~~~~~~~~~~~~~~~~~~~~~~~~~~~~~~~~~~~~~~~~~~~~~~~~~~~~~~~~~~~~~~~~~~~~~~~~~~~~~~~~\n",
      "RandomForestClassifier\n",
      "[[8232   20]\n",
      " [ 307  122]]\n",
      "              precision    recall  f1-score   support\n",
      "\n",
      "           0       0.96      1.00      0.98      8252\n",
      "           1       0.86      0.28      0.43       429\n",
      "\n",
      "    accuracy                           0.96      8681\n",
      "   macro avg       0.91      0.64      0.70      8681\n",
      "weighted avg       0.96      0.96      0.95      8681\n",
      "\n",
      "~~~~~~~~~~~~~~~~~~~~~~~~~~~~~~~~~~~~~~~~~~~~~~~~~~~~~~~~~~~~~~~~~~~~~~~~~~~~~~~~~~~~~~~~~~~~~~~~~~~~~~~~~~~~~~~~~~~~~~~~~~~~~\n",
      "AdaBoostClassifier\n",
      "[[8091  161]\n",
      " [ 155  274]]\n",
      "              precision    recall  f1-score   support\n",
      "\n",
      "           0       0.98      0.98      0.98      8252\n",
      "           1       0.63      0.64      0.63       429\n",
      "\n",
      "    accuracy                           0.96      8681\n",
      "   macro avg       0.81      0.81      0.81      8681\n",
      "weighted avg       0.96      0.96      0.96      8681\n",
      "\n",
      "~~~~~~~~~~~~~~~~~~~~~~~~~~~~~~~~~~~~~~~~~~~~~~~~~~~~~~~~~~~~~~~~~~~~~~~~~~~~~~~~~~~~~~~~~~~~~~~~~~~~~~~~~~~~~~~~~~~~~~~~~~~~~\n",
      "GradientBoostingClassifier\n",
      "[[8248    4]\n",
      " [ 156  273]]\n",
      "              precision    recall  f1-score   support\n",
      "\n",
      "           0       0.98      1.00      0.99      8252\n",
      "           1       0.99      0.64      0.77       429\n",
      "\n",
      "    accuracy                           0.98      8681\n",
      "   macro avg       0.98      0.82      0.88      8681\n",
      "weighted avg       0.98      0.98      0.98      8681\n",
      "\n",
      "~~~~~~~~~~~~~~~~~~~~~~~~~~~~~~~~~~~~~~~~~~~~~~~~~~~~~~~~~~~~~~~~~~~~~~~~~~~~~~~~~~~~~~~~~~~~~~~~~~~~~~~~~~~~~~~~~~~~~~~~~~~~~\n",
      "BaggingClassifier\n",
      "[[8239   13]\n",
      " [ 162  267]]\n",
      "              precision    recall  f1-score   support\n",
      "\n",
      "           0       0.98      1.00      0.99      8252\n",
      "           1       0.95      0.62      0.75       429\n",
      "\n",
      "    accuracy                           0.98      8681\n",
      "   macro avg       0.97      0.81      0.87      8681\n",
      "weighted avg       0.98      0.98      0.98      8681\n",
      "\n",
      "~~~~~~~~~~~~~~~~~~~~~~~~~~~~~~~~~~~~~~~~~~~~~~~~~~~~~~~~~~~~~~~~~~~~~~~~~~~~~~~~~~~~~~~~~~~~~~~~~~~~~~~~~~~~~~~~~~~~~~~~~~~~~\n",
      "XGBClassifier\n",
      "[[8239   13]\n",
      " [ 111  318]]\n",
      "              precision    recall  f1-score   support\n",
      "\n",
      "           0       0.99      1.00      0.99      8252\n",
      "           1       0.96      0.74      0.84       429\n",
      "\n",
      "    accuracy                           0.99      8681\n",
      "   macro avg       0.97      0.87      0.91      8681\n",
      "weighted avg       0.99      0.99      0.98      8681\n",
      "\n",
      "~~~~~~~~~~~~~~~~~~~~~~~~~~~~~~~~~~~~~~~~~~~~~~~~~~~~~~~~~~~~~~~~~~~~~~~~~~~~~~~~~~~~~~~~~~~~~~~~~~~~~~~~~~~~~~~~~~~~~~~~~~~~~\n"
     ]
    }
   ],
   "source": [
    "trial_model = [trial_lr,trial_dt,trial_rf,trial_ada,trial_gb,trial_bc,trial_xgb]\n",
    "trial_predict = [trial_lr_predict,trial_dt_predict,trial_rf_predict,trial_ada_predict,trial_gb_predict,trial_bc_predict,trial_xgb_predict]\n",
    "\n",
    "for pred, model in zip(trial_predict, trial_model):\n",
    "    print(model.__class__.__name__)\n",
    "    print(confusion_matrix(y_test, pred))\n",
    "    print(classification_report(y_test, pred))\n",
    "    print('~'*125)"
   ]
  },
  {
   "cell_type": "markdown",
   "metadata": {},
   "source": [
    "From our trial above, we can conclude that there are imbalancies in our target feature. All the model could predict event 0 (not bankrupt) very well but for event 1 (bankrupt) all the model suggests perform poorly. To overcome this probelm I'm going to use oversampling method to raise the count of event 1 (bankrupt)."
   ]
  },
  {
   "cell_type": "code",
   "execution_count": 9,
   "metadata": {
    "ExecuteTime": {
     "end_time": "2020-06-16T09:35:55.661984Z",
     "start_time": "2020-06-16T09:35:55.260827Z"
    },
    "scrolled": false
   },
   "outputs": [
    {
     "data": {
      "text/plain": [
       "<matplotlib.axes._subplots.AxesSubplot at 0x20754e79e48>"
      ]
     },
     "execution_count": 9,
     "metadata": {},
     "output_type": "execute_result"
    },
    {
     "data": {
      "image/png": "[encoded data removed]",
      "text/plain": [
       "<Figure size 1440x1440 with 1 Axes>"
      ]
     },
     "metadata": {
      "needs_background": "light"
     },
     "output_type": "display_data"
    }
   ],
   "source": [
    "fig, ax = plt.subplots(figsize=(20, 20))\n",
    "plot_importance(trial_xgb, importance_type = 'gain', max_num_features = 20, ax = ax)"
   ]
  },
  {
   "cell_type": "markdown",
   "metadata": {},
   "source": [
    "Graph above is describing what features is most important predicted by the model Extra Gradient Boosting, I take the 20 highest important features."
   ]
  },
  {
   "cell_type": "code",
   "execution_count": 10,
   "metadata": {
    "ExecuteTime": {
     "end_time": "2020-06-16T09:35:55.678939Z",
     "start_time": "2020-06-16T09:35:55.663980Z"
    }
   },
   "outputs": [
    {
     "data": {
      "text/html": [
       "<div>\n",
       "<style scoped>\n",
       "    .dataframe tbody tr th:only-of-type {\n",
       "        vertical-align: middle;\n",
       "    }\n",
       "\n",
       "    .dataframe tbody tr th {\n",
       "        vertical-align: top;\n",
       "    }\n",
       "\n",
       "    .dataframe thead th {\n",
       "        text-align: right;\n",
       "    }\n",
       "</style>\n",
       "<table border=\"1\" class=\"dataframe\">\n",
       "  <thead>\n",
       "    <tr style=\"text-align: right;\">\n",
       "      <th></th>\n",
       "      <th>Score</th>\n",
       "    </tr>\n",
       "  </thead>\n",
       "  <tbody>\n",
       "    <tr>\n",
       "      <th>Attr27</th>\n",
       "      <td>0.437375</td>\n",
       "    </tr>\n",
       "    <tr>\n",
       "      <th>Attr21</th>\n",
       "      <td>0.329747</td>\n",
       "    </tr>\n",
       "    <tr>\n",
       "      <th>Attr46</th>\n",
       "      <td>0.031372</td>\n",
       "    </tr>\n",
       "    <tr>\n",
       "      <th>Attr24</th>\n",
       "      <td>0.024573</td>\n",
       "    </tr>\n",
       "    <tr>\n",
       "      <th>Attr56</th>\n",
       "      <td>0.022254</td>\n",
       "    </tr>\n",
       "    <tr>\n",
       "      <th>Attr34</th>\n",
       "      <td>0.017208</td>\n",
       "    </tr>\n",
       "    <tr>\n",
       "      <th>Attr44</th>\n",
       "      <td>0.015894</td>\n",
       "    </tr>\n",
       "    <tr>\n",
       "      <th>Attr41</th>\n",
       "      <td>0.015159</td>\n",
       "    </tr>\n",
       "    <tr>\n",
       "      <th>Attr5</th>\n",
       "      <td>0.012532</td>\n",
       "    </tr>\n",
       "    <tr>\n",
       "      <th>Attr4</th>\n",
       "      <td>0.011787</td>\n",
       "    </tr>\n",
       "    <tr>\n",
       "      <th>Attr26</th>\n",
       "      <td>0.008674</td>\n",
       "    </tr>\n",
       "    <tr>\n",
       "      <th>Attr35</th>\n",
       "      <td>0.008005</td>\n",
       "    </tr>\n",
       "    <tr>\n",
       "      <th>Attr39</th>\n",
       "      <td>0.006535</td>\n",
       "    </tr>\n",
       "    <tr>\n",
       "      <th>Attr15</th>\n",
       "      <td>0.005982</td>\n",
       "    </tr>\n",
       "    <tr>\n",
       "      <th>Attr38</th>\n",
       "      <td>0.005813</td>\n",
       "    </tr>\n",
       "    <tr>\n",
       "      <th>Attr58</th>\n",
       "      <td>0.005799</td>\n",
       "    </tr>\n",
       "    <tr>\n",
       "      <th>Attr47</th>\n",
       "      <td>0.004842</td>\n",
       "    </tr>\n",
       "    <tr>\n",
       "      <th>Attr59</th>\n",
       "      <td>0.003120</td>\n",
       "    </tr>\n",
       "    <tr>\n",
       "      <th>Attr3</th>\n",
       "      <td>0.002884</td>\n",
       "    </tr>\n",
       "    <tr>\n",
       "      <th>Attr6</th>\n",
       "      <td>0.002074</td>\n",
       "    </tr>\n",
       "  </tbody>\n",
       "</table>\n",
       "</div>"
      ],
      "text/plain": [
       "           Score\n",
       "Attr27  0.437375\n",
       "Attr21  0.329747\n",
       "Attr46  0.031372\n",
       "Attr24  0.024573\n",
       "Attr56  0.022254\n",
       "Attr34  0.017208\n",
       "Attr44  0.015894\n",
       "Attr41  0.015159\n",
       "Attr5   0.012532\n",
       "Attr4   0.011787\n",
       "Attr26  0.008674\n",
       "Attr35  0.008005\n",
       "Attr39  0.006535\n",
       "Attr15  0.005982\n",
       "Attr38  0.005813\n",
       "Attr58  0.005799\n",
       "Attr47  0.004842\n",
       "Attr59  0.003120\n",
       "Attr3   0.002884\n",
       "Attr6   0.002074"
      ]
     },
     "execution_count": 10,
     "metadata": {},
     "output_type": "execute_result"
    }
   ],
   "source": [
    "gb_important = pd.DataFrame(data = trial_gb.feature_importances_.reshape(-1, 1), columns = ['Score'], index = x_train.columns)\n",
    "gb_important.nlargest(20, columns = 'Score')"
   ]
  },
  {
   "cell_type": "markdown",
   "metadata": {},
   "source": [
    "Table shown above is feature importance based on model Gradient Boosting Classifier. It shows the 20 highest importance in the model. And for further analysis, I'm going to stick with Gradient Boosting Classifier and Extreme Gradient Boosting Classifier since they perform the best in this trial."
   ]
  },
  {
   "cell_type": "code",
   "execution_count": 11,
   "metadata": {
    "ExecuteTime": {
     "end_time": "2020-06-16T09:35:56.305321Z",
     "start_time": "2020-06-16T09:35:55.679937Z"
    }
   },
   "outputs": [
    {
     "name": "stdout",
     "output_type": "stream",
     "text": [
      "Before Oversampling, counts of label 1: 1662\n",
      "Before Oversampling, counts of label 0: 33062\n",
      "After Oversampling, the shape of x_train: (66124, 63)\n",
      "After Oversampling, the shape of y_train: (66124,)\n",
      "After Oversampling, counts of label 1: 33062\n",
      "After Oversampling, counts of label 0: 33062\n"
     ]
    }
   ],
   "source": [
    "print('Before Oversampling, counts of label 1: {}'.format(sum(y_train == 1)))\n",
    "print('Before Oversampling, counts of label 0: {}'.format(sum(y_train == 0)))\n",
    "\n",
    "from imblearn.over_sampling import SMOTE\n",
    "sm = SMOTE(random_state = 2)\n",
    "x_train_res, y_train_res = sm.fit_sample(x_train, y_train.ravel())\n",
    "\n",
    "print('After Oversampling, the shape of x_train: {}'.format(x_train_res.shape))\n",
    "print('After Oversampling, the shape of y_train: {}'.format(y_train_res.shape))\n",
    "\n",
    "print('After Oversampling, counts of label 1: {}'.format(sum(y_train_res == 1)))\n",
    "print('After Oversampling, counts of label 0: {}'.format(sum(y_train_res == 0)))"
   ]
  },
  {
   "cell_type": "code",
   "execution_count": 12,
   "metadata": {
    "ExecuteTime": {
     "end_time": "2020-06-16T09:38:06.268121Z",
     "start_time": "2020-06-16T09:35:56.306317Z"
    }
   },
   "outputs": [],
   "source": [
    "# Training the model again with oversampled data\n",
    "\n",
    "smote_gb = GradientBoostingClassifier()\n",
    "smote_xgb = XGBClassifier()\n",
    "\n",
    "smote_gb.fit(x_train_res, y_train_res)\n",
    "smote_xgb.fit(x_train_res, y_train_res)\n",
    "\n",
    "smote_gb_predict = smote_gb.predict(x_test)\n",
    "smote_xgb_predict = smote_xgb.predict(x_test)"
   ]
  },
  {
   "cell_type": "code",
   "execution_count": 13,
   "metadata": {
    "ExecuteTime": {
     "end_time": "2020-06-16T09:38:06.345912Z",
     "start_time": "2020-06-16T09:38:06.270116Z"
    }
   },
   "outputs": [
    {
     "name": "stdout",
     "output_type": "stream",
     "text": [
      "GradientBoostingClassifier\n",
      "[[7377  875]\n",
      " [  58  371]]\n",
      "              precision    recall  f1-score   support\n",
      "\n",
      "           0       0.99      0.89      0.94      8252\n",
      "           1       0.30      0.86      0.44       429\n",
      "\n",
      "    accuracy                           0.89      8681\n",
      "   macro avg       0.64      0.88      0.69      8681\n",
      "weighted avg       0.96      0.89      0.92      8681\n",
      "\n",
      "~~~~~~~~~~~~~~~~~~~~~~~~~~~~~~~~~~~~~~~~~~~~~~~~~~~~~~~~~~~~~~~~~~~~~~~~~~~~~~~~~~~~~~~~~~~~~~~~~~~~~~~~~~~~~~~~~~~~~~~~~~~~~\n",
      "XGBClassifier\n",
      "[[8121  131]\n",
      " [  65  364]]\n",
      "              precision    recall  f1-score   support\n",
      "\n",
      "           0       0.99      0.98      0.99      8252\n",
      "           1       0.74      0.85      0.79       429\n",
      "\n",
      "    accuracy                           0.98      8681\n",
      "   macro avg       0.86      0.92      0.89      8681\n",
      "weighted avg       0.98      0.98      0.98      8681\n",
      "\n",
      "~~~~~~~~~~~~~~~~~~~~~~~~~~~~~~~~~~~~~~~~~~~~~~~~~~~~~~~~~~~~~~~~~~~~~~~~~~~~~~~~~~~~~~~~~~~~~~~~~~~~~~~~~~~~~~~~~~~~~~~~~~~~~\n"
     ]
    }
   ],
   "source": [
    "smote_model = [smote_gb, smote_xgb]\n",
    "smote_predict = [smote_gb_predict, smote_xgb_predict]\n",
    "\n",
    "for pred, model in zip(smote_predict, smote_model):\n",
    "    print(model.__class__.__name__)\n",
    "    print(confusion_matrix(y_test, pred))\n",
    "    print(classification_report(y_test, pred))\n",
    "    print('~'*125)"
   ]
  },
  {
   "cell_type": "markdown",
   "metadata": {},
   "source": [
    "This evaluation semms interesting. After applying oversampling method, Extra Gradient Boosting perform well in overall. Now, let's see the important features. "
   ]
  },
  {
   "cell_type": "code",
   "execution_count": 14,
   "metadata": {
    "ExecuteTime": {
     "end_time": "2020-06-16T09:42:58.324371Z",
     "start_time": "2020-06-16T09:42:57.898511Z"
    }
   },
   "outputs": [
    {
     "data": {
      "text/plain": [
       "<matplotlib.axes._subplots.AxesSubplot at 0x2070811fb88>"
      ]
     },
     "execution_count": 14,
     "metadata": {},
     "output_type": "execute_result"
    },
    {
     "data": {
      "image/png": "[encoded data removed]",
      "text/plain": [
       "<Figure size 1440x1440 with 1 Axes>"
      ]
     },
     "metadata": {
      "needs_background": "light"
     },
     "output_type": "display_data"
    }
   ],
   "source": [
    "fig, ax = plt.subplots(figsize=(20, 20))\n",
    "plot_importance(smote_xgb, importance_type = 'gain', max_num_features = 20, ax = ax)"
   ]
  },
  {
   "cell_type": "code",
   "execution_count": 15,
   "metadata": {
    "ExecuteTime": {
     "end_time": "2020-06-16T09:43:41.460506Z",
     "start_time": "2020-06-16T09:43:41.450533Z"
    }
   },
   "outputs": [
    {
     "data": {
      "text/html": [
       "<div>\n",
       "<style scoped>\n",
       "    .dataframe tbody tr th:only-of-type {\n",
       "        vertical-align: middle;\n",
       "    }\n",
       "\n",
       "    .dataframe tbody tr th {\n",
       "        vertical-align: top;\n",
       "    }\n",
       "\n",
       "    .dataframe thead th {\n",
       "        text-align: right;\n",
       "    }\n",
       "</style>\n",
       "<table border=\"1\" class=\"dataframe\">\n",
       "  <thead>\n",
       "    <tr style=\"text-align: right;\">\n",
       "      <th></th>\n",
       "      <th>Score</th>\n",
       "    </tr>\n",
       "  </thead>\n",
       "  <tbody>\n",
       "    <tr>\n",
       "      <th>Attr27</th>\n",
       "      <td>0.244325</td>\n",
       "    </tr>\n",
       "    <tr>\n",
       "      <th>Attr21</th>\n",
       "      <td>0.135924</td>\n",
       "    </tr>\n",
       "    <tr>\n",
       "      <th>Attr6</th>\n",
       "      <td>0.095961</td>\n",
       "    </tr>\n",
       "    <tr>\n",
       "      <th>Attr24</th>\n",
       "      <td>0.068904</td>\n",
       "    </tr>\n",
       "    <tr>\n",
       "      <th>Attr34</th>\n",
       "      <td>0.060797</td>\n",
       "    </tr>\n",
       "    <tr>\n",
       "      <th>Attr26</th>\n",
       "      <td>0.059462</td>\n",
       "    </tr>\n",
       "    <tr>\n",
       "      <th>Attr38</th>\n",
       "      <td>0.052684</td>\n",
       "    </tr>\n",
       "    <tr>\n",
       "      <th>Attr46</th>\n",
       "      <td>0.051083</td>\n",
       "    </tr>\n",
       "    <tr>\n",
       "      <th>Attr39</th>\n",
       "      <td>0.045881</td>\n",
       "    </tr>\n",
       "    <tr>\n",
       "      <th>Attr5</th>\n",
       "      <td>0.026041</td>\n",
       "    </tr>\n",
       "    <tr>\n",
       "      <th>Attr13</th>\n",
       "      <td>0.024530</td>\n",
       "    </tr>\n",
       "    <tr>\n",
       "      <th>Attr41</th>\n",
       "      <td>0.020079</td>\n",
       "    </tr>\n",
       "    <tr>\n",
       "      <th>Attr25</th>\n",
       "      <td>0.009592</td>\n",
       "    </tr>\n",
       "    <tr>\n",
       "      <th>Attr56</th>\n",
       "      <td>0.008744</td>\n",
       "    </tr>\n",
       "    <tr>\n",
       "      <th>Attr29</th>\n",
       "      <td>0.008348</td>\n",
       "    </tr>\n",
       "    <tr>\n",
       "      <th>Attr59</th>\n",
       "      <td>0.007818</td>\n",
       "    </tr>\n",
       "    <tr>\n",
       "      <th>Attr42</th>\n",
       "      <td>0.007780</td>\n",
       "    </tr>\n",
       "    <tr>\n",
       "      <th>Attr58</th>\n",
       "      <td>0.006767</td>\n",
       "    </tr>\n",
       "    <tr>\n",
       "      <th>Attr61</th>\n",
       "      <td>0.006118</td>\n",
       "    </tr>\n",
       "    <tr>\n",
       "      <th>Attr44</th>\n",
       "      <td>0.005324</td>\n",
       "    </tr>\n",
       "  </tbody>\n",
       "</table>\n",
       "</div>"
      ],
      "text/plain": [
       "           Score\n",
       "Attr27  0.244325\n",
       "Attr21  0.135924\n",
       "Attr6   0.095961\n",
       "Attr24  0.068904\n",
       "Attr34  0.060797\n",
       "Attr26  0.059462\n",
       "Attr38  0.052684\n",
       "Attr46  0.051083\n",
       "Attr39  0.045881\n",
       "Attr5   0.026041\n",
       "Attr13  0.024530\n",
       "Attr41  0.020079\n",
       "Attr25  0.009592\n",
       "Attr56  0.008744\n",
       "Attr29  0.008348\n",
       "Attr59  0.007818\n",
       "Attr42  0.007780\n",
       "Attr58  0.006767\n",
       "Attr61  0.006118\n",
       "Attr44  0.005324"
      ]
     },
     "execution_count": 15,
     "metadata": {},
     "output_type": "execute_result"
    }
   ],
   "source": [
    "gb_important_smote = pd.DataFrame(data = smote_gb.feature_importances_.reshape(-1, 1), columns = ['Score'], index = x_train.columns)\n",
    "gb_important_smote.nlargest(20, columns = 'Score')"
   ]
  },
  {
   "cell_type": "markdown",
   "metadata": {},
   "source": [
    "Now, let's evaluate the feature importance before and after SMOTE. Knowing feature importance is essential to make our model run effectively and efficiently. After looking for similarity in each feature importance, I found 13 features that always showed up in the models top 20 feature importances. And then there are 2 feautres that only shows 3 times in the models top 20 feature importances. I will try to examine the 13 features, the 13 + 2 features with XGB models, and all the smote XGB feature importances hope the models evaluation increased."
   ]
  },
  {
   "cell_type": "code",
   "execution_count": 20,
   "metadata": {
    "ExecuteTime": {
     "end_time": "2020-06-16T10:16:04.577330Z",
     "start_time": "2020-06-16T10:16:04.567351Z"
    }
   },
   "outputs": [
    {
     "data": {
      "text/plain": [
       "(66124, 13)"
      ]
     },
     "execution_count": 20,
     "metadata": {},
     "output_type": "execute_result"
    }
   ],
   "source": [
    "xtr_res = x_train_res[['Attr27','Attr21','Attr26','Attr46','Attr6','Attr38','Attr39','Attr34','Attr5','Attr41','Attr58','Attr44','Attr56']]\n",
    "xtr_res.shape"
   ]
  },
  {
   "cell_type": "code",
   "execution_count": 21,
   "metadata": {
    "ExecuteTime": {
     "end_time": "2020-06-16T10:16:39.774308Z",
     "start_time": "2020-06-16T10:16:39.758351Z"
    },
    "collapsed": true
   },
   "outputs": [
    {
     "data": {
      "text/html": [
       "<div>\n",
       "<style scoped>\n",
       "    .dataframe tbody tr th:only-of-type {\n",
       "        vertical-align: middle;\n",
       "    }\n",
       "\n",
       "    .dataframe tbody tr th {\n",
       "        vertical-align: top;\n",
       "    }\n",
       "\n",
       "    .dataframe thead th {\n",
       "        text-align: right;\n",
       "    }\n",
       "</style>\n",
       "<table border=\"1\" class=\"dataframe\">\n",
       "  <thead>\n",
       "    <tr style=\"text-align: right;\">\n",
       "      <th></th>\n",
       "      <th>Attr27</th>\n",
       "      <th>Attr21</th>\n",
       "      <th>Attr26</th>\n",
       "      <th>Attr46</th>\n",
       "      <th>Attr6</th>\n",
       "      <th>Attr38</th>\n",
       "      <th>Attr39</th>\n",
       "      <th>Attr34</th>\n",
       "      <th>Attr5</th>\n",
       "      <th>Attr41</th>\n",
       "      <th>Attr58</th>\n",
       "      <th>Attr44</th>\n",
       "      <th>Attr56</th>\n",
       "    </tr>\n",
       "  </thead>\n",
       "  <tbody>\n",
       "    <tr>\n",
       "      <th>29939</th>\n",
       "      <td>1.204377</td>\n",
       "      <td>4.553583</td>\n",
       "      <td>-0.167564</td>\n",
       "      <td>0.257752</td>\n",
       "      <td>0.000000</td>\n",
       "      <td>-0.374123</td>\n",
       "      <td>-0.187389</td>\n",
       "      <td>1.263609</td>\n",
       "      <td>0.178588</td>\n",
       "      <td>0.591804</td>\n",
       "      <td>0.267686</td>\n",
       "      <td>-0.006477</td>\n",
       "      <td>-0.270979</td>\n",
       "    </tr>\n",
       "    <tr>\n",
       "      <th>20846</th>\n",
       "      <td>0.913580</td>\n",
       "      <td>-0.748310</td>\n",
       "      <td>1.845313</td>\n",
       "      <td>1.100151</td>\n",
       "      <td>0.000000</td>\n",
       "      <td>0.405290</td>\n",
       "      <td>0.884999</td>\n",
       "      <td>1.235643</td>\n",
       "      <td>0.751705</td>\n",
       "      <td>-0.357596</td>\n",
       "      <td>-0.791012</td>\n",
       "      <td>-0.147915</td>\n",
       "      <td>0.513257</td>\n",
       "    </tr>\n",
       "    <tr>\n",
       "      <th>10611</th>\n",
       "      <td>1.180031</td>\n",
       "      <td>-0.347060</td>\n",
       "      <td>-0.068091</td>\n",
       "      <td>-0.527880</td>\n",
       "      <td>0.000000</td>\n",
       "      <td>-0.560076</td>\n",
       "      <td>-0.043150</td>\n",
       "      <td>0.503776</td>\n",
       "      <td>-0.529498</td>\n",
       "      <td>0.252056</td>\n",
       "      <td>0.062372</td>\n",
       "      <td>-0.910245</td>\n",
       "      <td>-0.165497</td>\n",
       "    </tr>\n",
       "    <tr>\n",
       "      <th>36227</th>\n",
       "      <td>-0.172363</td>\n",
       "      <td>-3.912480</td>\n",
       "      <td>1.053257</td>\n",
       "      <td>10.722166</td>\n",
       "      <td>0.522311</td>\n",
       "      <td>1.062789</td>\n",
       "      <td>-0.042043</td>\n",
       "      <td>-0.392227</td>\n",
       "      <td>2.976130</td>\n",
       "      <td>0.150304</td>\n",
       "      <td>0.142772</td>\n",
       "      <td>2.262724</td>\n",
       "      <td>-0.168860</td>\n",
       "    </tr>\n",
       "    <tr>\n",
       "      <th>15937</th>\n",
       "      <td>2.974309</td>\n",
       "      <td>0.805944</td>\n",
       "      <td>0.265794</td>\n",
       "      <td>-0.162111</td>\n",
       "      <td>0.000000</td>\n",
       "      <td>-0.405887</td>\n",
       "      <td>-0.745187</td>\n",
       "      <td>-0.123529</td>\n",
       "      <td>-1.397305</td>\n",
       "      <td>0.011317</td>\n",
       "      <td>-0.666353</td>\n",
       "      <td>1.432782</td>\n",
       "      <td>0.850594</td>\n",
       "    </tr>\n",
       "    <tr>\n",
       "      <th>...</th>\n",
       "      <td>...</td>\n",
       "      <td>...</td>\n",
       "      <td>...</td>\n",
       "      <td>...</td>\n",
       "      <td>...</td>\n",
       "      <td>...</td>\n",
       "      <td>...</td>\n",
       "      <td>...</td>\n",
       "      <td>...</td>\n",
       "      <td>...</td>\n",
       "      <td>...</td>\n",
       "      <td>...</td>\n",
       "      <td>...</td>\n",
       "    </tr>\n",
       "    <tr>\n",
       "      <th>21956</th>\n",
       "      <td>-0.083203</td>\n",
       "      <td>-0.823700</td>\n",
       "      <td>0.119258</td>\n",
       "      <td>0.102793</td>\n",
       "      <td>2.763721</td>\n",
       "      <td>0.584084</td>\n",
       "      <td>0.357090</td>\n",
       "      <td>-0.398426</td>\n",
       "      <td>0.050671</td>\n",
       "      <td>0.145827</td>\n",
       "      <td>-0.164132</td>\n",
       "      <td>-0.660868</td>\n",
       "      <td>0.130962</td>\n",
       "    </tr>\n",
       "    <tr>\n",
       "      <th>39401</th>\n",
       "      <td>-0.250550</td>\n",
       "      <td>0.507493</td>\n",
       "      <td>0.280196</td>\n",
       "      <td>-0.230870</td>\n",
       "      <td>0.000000</td>\n",
       "      <td>0.055232</td>\n",
       "      <td>-0.243127</td>\n",
       "      <td>0.157645</td>\n",
       "      <td>-0.370500</td>\n",
       "      <td>3.313974</td>\n",
       "      <td>-1.456169</td>\n",
       "      <td>0.306661</td>\n",
       "      <td>1.489630</td>\n",
       "    </tr>\n",
       "    <tr>\n",
       "      <th>17008</th>\n",
       "      <td>-0.169026</td>\n",
       "      <td>-0.946648</td>\n",
       "      <td>-0.085241</td>\n",
       "      <td>-0.229464</td>\n",
       "      <td>2.898782</td>\n",
       "      <td>-0.112765</td>\n",
       "      <td>-0.011230</td>\n",
       "      <td>-0.417906</td>\n",
       "      <td>-0.218584</td>\n",
       "      <td>0.219688</td>\n",
       "      <td>0.454375</td>\n",
       "      <td>-0.444488</td>\n",
       "      <td>-0.472829</td>\n",
       "    </tr>\n",
       "    <tr>\n",
       "      <th>15430</th>\n",
       "      <td>-0.250550</td>\n",
       "      <td>-0.462998</td>\n",
       "      <td>-0.736389</td>\n",
       "      <td>-0.523962</td>\n",
       "      <td>0.000000</td>\n",
       "      <td>-0.480041</td>\n",
       "      <td>-0.406011</td>\n",
       "      <td>0.195483</td>\n",
       "      <td>-0.854774</td>\n",
       "      <td>56.164238</td>\n",
       "      <td>0.135167</td>\n",
       "      <td>-0.291016</td>\n",
       "      <td>-0.064046</td>\n",
       "    </tr>\n",
       "    <tr>\n",
       "      <th>7987</th>\n",
       "      <td>-0.106459</td>\n",
       "      <td>2.527389</td>\n",
       "      <td>0.352203</td>\n",
       "      <td>-0.213277</td>\n",
       "      <td>3.399559</td>\n",
       "      <td>-0.292440</td>\n",
       "      <td>0.269615</td>\n",
       "      <td>-0.364986</td>\n",
       "      <td>-0.130415</td>\n",
       "      <td>-0.119583</td>\n",
       "      <td>0.077580</td>\n",
       "      <td>-0.412936</td>\n",
       "      <td>-0.105149</td>\n",
       "    </tr>\n",
       "  </tbody>\n",
       "</table>\n",
       "<p>8681 rows × 13 columns</p>\n",
       "</div>"
      ],
      "text/plain": [
       "         Attr27    Attr21    Attr26     Attr46     Attr6    Attr38    Attr39  \\\n",
       "29939  1.204377  4.553583 -0.167564   0.257752  0.000000 -0.374123 -0.187389   \n",
       "20846  0.913580 -0.748310  1.845313   1.100151  0.000000  0.405290  0.884999   \n",
       "10611  1.180031 -0.347060 -0.068091  -0.527880  0.000000 -0.560076 -0.043150   \n",
       "36227 -0.172363 -3.912480  1.053257  10.722166  0.522311  1.062789 -0.042043   \n",
       "15937  2.974309  0.805944  0.265794  -0.162111  0.000000 -0.405887 -0.745187   \n",
       "...         ...       ...       ...        ...       ...       ...       ...   \n",
       "21956 -0.083203 -0.823700  0.119258   0.102793  2.763721  0.584084  0.357090   \n",
       "39401 -0.250550  0.507493  0.280196  -0.230870  0.000000  0.055232 -0.243127   \n",
       "17008 -0.169026 -0.946648 -0.085241  -0.229464  2.898782 -0.112765 -0.011230   \n",
       "15430 -0.250550 -0.462998 -0.736389  -0.523962  0.000000 -0.480041 -0.406011   \n",
       "7987  -0.106459  2.527389  0.352203  -0.213277  3.399559 -0.292440  0.269615   \n",
       "\n",
       "         Attr34     Attr5     Attr41    Attr58    Attr44    Attr56  \n",
       "29939  1.263609  0.178588   0.591804  0.267686 -0.006477 -0.270979  \n",
       "20846  1.235643  0.751705  -0.357596 -0.791012 -0.147915  0.513257  \n",
       "10611  0.503776 -0.529498   0.252056  0.062372 -0.910245 -0.165497  \n",
       "36227 -0.392227  2.976130   0.150304  0.142772  2.262724 -0.168860  \n",
       "15937 -0.123529 -1.397305   0.011317 -0.666353  1.432782  0.850594  \n",
       "...         ...       ...        ...       ...       ...       ...  \n",
       "21956 -0.398426  0.050671   0.145827 -0.164132 -0.660868  0.130962  \n",
       "39401  0.157645 -0.370500   3.313974 -1.456169  0.306661  1.489630  \n",
       "17008 -0.417906 -0.218584   0.219688  0.454375 -0.444488 -0.472829  \n",
       "15430  0.195483 -0.854774  56.164238  0.135167 -0.291016 -0.064046  \n",
       "7987  -0.364986 -0.130415  -0.119583  0.077580 -0.412936 -0.105149  \n",
       "\n",
       "[8681 rows x 13 columns]"
      ]
     },
     "execution_count": 21,
     "metadata": {},
     "output_type": "execute_result"
    }
   ],
   "source": [
    "xts = x_test[xtr_res.columns]\n",
    "xts"
   ]
  },
  {
   "cell_type": "code",
   "execution_count": 22,
   "metadata": {
    "ExecuteTime": {
     "end_time": "2020-06-16T10:19:00.064828Z",
     "start_time": "2020-06-16T10:18:55.893988Z"
    }
   },
   "outputs": [
    {
     "name": "stdout",
     "output_type": "stream",
     "text": [
      "[[7873  379]\n",
      " [  54  375]]\n",
      "~~~~~~~~~~~~~~~~~~~~~~~~~~~~~~~~~~~~~~~~~~~~~~~~~~~~~~~~~~~~~~~~~~~~~~~~~~~~~~~~~~~~~~~~~~~~~~~~~~~~~~~~~~~~~~~~~~~~~~~~~~~~~\n",
      "              precision    recall  f1-score   support\n",
      "\n",
      "           0       0.99      0.95      0.97      8252\n",
      "           1       0.50      0.87      0.63       429\n",
      "\n",
      "    accuracy                           0.95      8681\n",
      "   macro avg       0.75      0.91      0.80      8681\n",
      "weighted avg       0.97      0.95      0.96      8681\n",
      "\n"
     ]
    }
   ],
   "source": [
    "new_xgb = XGBClassifier()\n",
    "new_xgb.fit(xtr_res, y_train_res)\n",
    "new_xgb_predict = new_xgb.predict(xts)\n",
    "print(confusion_matrix(y_test, new_xgb_predict))\n",
    "print('~'*125)\n",
    "print(classification_report(y_test, new_xgb_predict))"
   ]
  },
  {
   "cell_type": "code",
   "execution_count": 23,
   "metadata": {
    "ExecuteTime": {
     "end_time": "2020-06-16T10:21:09.337780Z",
     "start_time": "2020-06-16T10:21:09.327808Z"
    }
   },
   "outputs": [],
   "source": [
    "xtr2_res = x_train_res[['Attr27','Attr21','Attr26','Attr46','Attr6','Attr38','Attr39','Attr34',\n",
    "                        'Attr5','Attr41','Attr58','Attr44','Attr56','Attr24','Attr42']]\n",
    "xts2_res = x_test[xtr2_res.columns]"
   ]
  },
  {
   "cell_type": "code",
   "execution_count": 24,
   "metadata": {
    "ExecuteTime": {
     "end_time": "2020-06-16T10:22:28.112906Z",
     "start_time": "2020-06-16T10:22:23.847341Z"
    }
   },
   "outputs": [
    {
     "name": "stdout",
     "output_type": "stream",
     "text": [
      "[[7947  305]\n",
      " [  52  377]]\n",
      "~~~~~~~~~~~~~~~~~~~~~~~~~~~~~~~~~~~~~~~~~~~~~~~~~~~~~~~~~~~~~~~~~~~~~~~~~~~~~~~~~~~~~~~~~~~~~~~~~~~~~~~~~~~~~~~~~~~~~~~~~~~~~\n",
      "              precision    recall  f1-score   support\n",
      "\n",
      "           0       0.99      0.96      0.98      8252\n",
      "           1       0.55      0.88      0.68       429\n",
      "\n",
      "    accuracy                           0.96      8681\n",
      "   macro avg       0.77      0.92      0.83      8681\n",
      "weighted avg       0.97      0.96      0.96      8681\n",
      "\n"
     ]
    }
   ],
   "source": [
    "new_xgb2 = XGBClassifier()\n",
    "new_xgb2.fit(xtr2_res, y_train_res)\n",
    "new_xgb2_predict = new_xgb2.predict(xts2_res)\n",
    "print(confusion_matrix(y_test, new_xgb2_predict))\n",
    "print('~'*125)\n",
    "print(classification_report(y_test, new_xgb2_predict))"
   ]
  },
  {
   "cell_type": "code",
   "execution_count": 26,
   "metadata": {
    "ExecuteTime": {
     "end_time": "2020-06-16T10:24:24.857454Z",
     "start_time": "2020-06-16T10:24:24.837508Z"
    }
   },
   "outputs": [],
   "source": [
    "xtr3_res = x_train_res[['Attr27','Attr21','Attr26','Attr46','Attr6','Attr38','Attr39','Attr34',\n",
    "                        'Attr5','Attr41','Attr58','Attr44','Attr56','Attr24','Attr42','Attr13',\n",
    "                        'Attr16','Attr22','Attr19','Attr20']]\n",
    "xts3_res = x_test[xtr3_res.columns]"
   ]
  },
  {
   "cell_type": "code",
   "execution_count": 27,
   "metadata": {
    "ExecuteTime": {
     "end_time": "2020-06-16T10:25:47.959988Z",
     "start_time": "2020-06-16T10:25:43.325388Z"
    }
   },
   "outputs": [
    {
     "name": "stdout",
     "output_type": "stream",
     "text": [
      "[[7973  279]\n",
      " [  60  369]]\n",
      "~~~~~~~~~~~~~~~~~~~~~~~~~~~~~~~~~~~~~~~~~~~~~~~~~~~~~~~~~~~~~~~~~~~~~~~~~~~~~~~~~~~~~~~~~~~~~~~~~~~~~~~~~~~~~~~~~~~~~~~~~~~~~\n",
      "              precision    recall  f1-score   support\n",
      "\n",
      "           0       0.99      0.97      0.98      8252\n",
      "           1       0.57      0.86      0.69       429\n",
      "\n",
      "    accuracy                           0.96      8681\n",
      "   macro avg       0.78      0.91      0.83      8681\n",
      "weighted avg       0.97      0.96      0.96      8681\n",
      "\n"
     ]
    }
   ],
   "source": [
    "new_xgb3 = XGBClassifier()\n",
    "new_xgb3.fit(xtr3_res, y_train_res)\n",
    "new_xgb3_predict = new_xgb3.predict(xts3_res)\n",
    "print(confusion_matrix(y_test, new_xgb3_predict))\n",
    "print('~'*125)\n",
    "print(classification_report(y_test, new_xgb3_predict))"
   ]
  },
  {
   "cell_type": "markdown",
   "metadata": {},
   "source": [
    "There are some interesting results here. After I predict using the feature importances only, the evaluation metrics of the model is increased. But, If I look closely, the model's precision for predicting event 1 is always increased, but the recall is reduced after i use all the feature importances of smote'd XGB. If we look closely to the Confusion Matrix, the number of True Negative (model correctly predicts event 0/not bankrupt) is always increasing but the number of True Positive (model correctly predicts event 1/bankrupt) is reduced if we predict it with all the smote'd XGB's feature importances. For false positive(model predicts the company is 1/bankrupt but it actually survived) the number is always reduced, and the number of false negative(model predicts the company is 0/survived but it is actually bankrupt) is reduced and rise again until I apply every smote'd XGB's important features.<br/><br/>\n",
    "In this prediction model, we try to predict bankruptcy as much as possible, which means we try to suppressed the number of false negative, because if we incorrectly predict nearly bankrupt company as not_bankrupt, no problems will be solved and the company will be bankrupt. In difference with false positive, if we predict the company as bankrupt but, it actually could survive, then the manager or company's owner will perform well to safe the company and perform better than usual. Basically, we want to suppressed every faulty in our predictions, but in this situation, I had to choose lower false negative rate and higher true positive rate.<br/><br/>\n",
    "Because I chose to suppressed the false negative rate and choose higher true positive rate, it had an impact to the model evaluation. In this situation, I want to focused to achieve greater value on positive recall (higher sensitivity), because positive recall shows the rate of my model model correctly predicts positive event (bankrupt).<br/><br/>  \n",
    "<center> $ Positive Recall = \\frac{True Positive}{True Positive + False Negative} $ </center><br/>\n",
    "In my trial, increase of positive recall score is followed by reduced positive precision score. .Let's see the formula of positive precision:<br/><br/>\n",
    "<center> $ Positive Precision = \\frac{True Positive}{True Positive + False Positive} $ </center><br/>\n",
    "It happens because bigger true positive rate result in bigger denominator in positive precision, followed by the already big false positive rate, makes the positive precision denominator is getting bigger and reducing the positive precision rate.<br/><br/>\n",
    "Now I'm going to tune the model's parameters to try achieving better result."
   ]
  },
  {
   "cell_type": "code",
   "execution_count": 28,
   "metadata": {
    "ExecuteTime": {
     "end_time": "2020-06-16T11:40:03.915337Z",
     "start_time": "2020-06-16T11:40:03.900377Z"
    }
   },
   "outputs": [],
   "source": [
    " param = {\"learning_rate\"    : [0.05, 0.10, 0.15, 0.20, 0.25, 0.30 ] ,\n",
    " \"max_depth\"        : [ 3, 4, 5, 6, 8, 10, 12, 15],\n",
    " \"min_child_weight\" : [ 1, 3, 5, 7 ],\n",
    " \"gamma\"            : [ 0.0, 0.1, 0.2 , 0.3, 0.4 ],\n",
    " \"colsample_bytree\" : [ 0.3, 0.4, 0.5 , 0.7 ] }"
   ]
  },
  {
   "cell_type": "code",
   "execution_count": null,
   "metadata": {},
   "outputs": [],
   "source": []
  },
  {
   "cell_type": "code",
   "execution_count": 29,
   "metadata": {
    "ExecuteTime": {
     "end_time": "2020-06-16T20:42:59.050630Z",
     "start_time": "2020-06-16T11:50:15.982417Z"
    }
   },
   "outputs": [
    {
     "data": {
      "text/plain": [
       "{'colsample_bytree': 0.7,\n",
       " 'gamma': 0.0,\n",
       " 'learning_rate': 0.25,\n",
       " 'max_depth': 6,\n",
       " 'min_child_weight': 5}"
      ]
     },
     "execution_count": 29,
     "metadata": {},
     "output_type": "execute_result"
    }
   ],
   "source": [
    "from sklearn.model_selection import GridSearchCV\n",
    "tune_xgb = XGBClassifier()\n",
    "tuned_xgb = GridSearchCV(\n",
    "    tune_xgb, param, cv = 5\n",
    ")\n",
    "tuned_xgb.fit(x_train[['Attr27','Attr21','Attr26','Attr46','Attr6','Attr38','Attr39','Attr34',\n",
    "                        'Attr5','Attr41','Attr58','Attr44','Attr56','Attr24','Attr42']], y_train)\n",
    "tuned_xgb.best_params_"
   ]
  },
  {
   "cell_type": "code",
   "execution_count": 31,
   "metadata": {
    "ExecuteTime": {
     "end_time": "2020-06-16T22:02:06.839626Z",
     "start_time": "2020-06-16T22:02:03.799761Z"
    }
   },
   "outputs": [
    {
     "name": "stdout",
     "output_type": "stream",
     "text": [
      "[[7869  383]\n",
      " [  55  374]]\n",
      "~~~~~~~~~~~~~~~~~~~~~~~~~~~~~~~~~~~~~~~~~~~~~~~~~~~~~~~~~~~~~~~~~~~~~~~~~~~~~~~~~~~~~~~~~~~~~~~~~~~~~~~~~~~~~~~~~~~~~~~~~~~~~\n",
      "              precision    recall  f1-score   support\n",
      "\n",
      "           0       0.99      0.95      0.97      8252\n",
      "           1       0.49      0.87      0.63       429\n",
      "\n",
      "    accuracy                           0.95      8681\n",
      "   macro avg       0.74      0.91      0.80      8681\n",
      "weighted avg       0.97      0.95      0.96      8681\n",
      "\n"
     ]
    }
   ],
   "source": [
    "best_xgb = XGBClassifier(\n",
    "    colsample_bytree = 0.7,\n",
    "    gamma = 0.0,\n",
    "    learning_rate = 0.25,\n",
    "    max_depth = 6,\n",
    "    min_child_weight = 5\n",
    ")\n",
    "best_xgb.fit(xtr2_res, y_train_res)\n",
    "y_pred = best_xgb.predict(xts2_res)\n",
    "print(confusion_matrix(y_test, y_pred))\n",
    "print('~'*125)\n",
    "print(classification_report(y_test, y_pred))"
   ]
  },
  {
   "cell_type": "code",
   "execution_count": 32,
   "metadata": {
    "ExecuteTime": {
     "end_time": "2020-06-16T22:04:36.387127Z",
     "start_time": "2020-06-16T22:04:33.770129Z"
    }
   },
   "outputs": [
    {
     "name": "stdout",
     "output_type": "stream",
     "text": [
      "[[7831  421]\n",
      " [  51  378]]\n",
      "~~~~~~~~~~~~~~~~~~~~~~~~~~~~~~~~~~~~~~~~~~~~~~~~~~~~~~~~~~~~~~~~~~~~~~~~~~~~~~~~~~~~~~~~~~~~~~~~~~~~~~~~~~~~~~~~~~~~~~~~~~~~~\n",
      "              precision    recall  f1-score   support\n",
      "\n",
      "           0       0.99      0.95      0.97      8252\n",
      "           1       0.47      0.88      0.62       429\n",
      "\n",
      "    accuracy                           0.95      8681\n",
      "   macro avg       0.73      0.92      0.79      8681\n",
      "weighted avg       0.97      0.95      0.95      8681\n",
      "\n"
     ]
    }
   ],
   "source": [
    "best_xgb2 = XGBClassifier(\n",
    "    colsample_bytree = 0.7,\n",
    "    gamma = 0.3,\n",
    "    learning_rate = 0.3,\n",
    "    max_depth = 5,\n",
    "    min_child_weight = 5\n",
    ")\n",
    "best_xgb2.fit(xtr2_res, y_train_res)\n",
    "y_predict = best_xgb2.predict(xts2_res)\n",
    "print(confusion_matrix(y_test, y_predict))\n",
    "print('~'*125)\n",
    "print(classification_report(y_test, y_predict))"
   ]
  },
  {
   "cell_type": "code",
   "execution_count": 33,
   "metadata": {
    "ExecuteTime": {
     "end_time": "2020-06-16T22:09:53.640470Z",
     "start_time": "2020-06-16T22:09:25.175630Z"
    }
   },
   "outputs": [
    {
     "name": "stdout",
     "output_type": "stream",
     "text": [
      "[[7424  828]\n",
      " [  47  382]]\n",
      "~~~~~~~~~~~~~~~~~~~~~~~~~~~~~~~~~~~~~~~~~~~~~~~~~~~~~~~~~~~~~~~~~~~~~~~~~~~~~~~~~~~~~~~~~~~~~~~~~~~~~~~~~~~~~~~~~~~~~~~~~~~~~\n",
      "              precision    recall  f1-score   support\n",
      "\n",
      "           0       0.99      0.90      0.94      8252\n",
      "           1       0.32      0.89      0.47       429\n",
      "\n",
      "    accuracy                           0.90      8681\n",
      "   macro avg       0.65      0.90      0.71      8681\n",
      "weighted avg       0.96      0.90      0.92      8681\n",
      "\n"
     ]
    }
   ],
   "source": [
    "xgboost = XGBClassifier(learning_rate = 0.01, n_estimators = 1000, max_depth = 4, n_jobs = -1)\n",
    "xgboost.fit(xtr2_res, y_train_res)\n",
    "y_xgboost = xgboost.predict(xts2_res)\n",
    "print(confusion_matrix(y_test, y_xgboost))\n",
    "print('~'*125)\n",
    "print(classification_report(y_test, y_xgboost))"
   ]
  },
  {
   "cell_type": "code",
   "execution_count": 3,
   "metadata": {
    "ExecuteTime": {
     "end_time": "2020-06-18T03:43:10.227729Z",
     "start_time": "2020-06-18T03:43:10.219709Z"
    }
   },
   "outputs": [
    {
     "name": "stdout",
     "output_type": "stream",
     "text": [
      "Help on package pandas:\n",
      "\n",
      "NAME\n",
      "    pandas\n",
      "\n",
      "DESCRIPTION\n",
      "    pandas - a powerful data analysis and manipulation library for Python\n",
      "    =====================================================================\n",
      "    \n",
      "    **pandas** is a Python package providing fast, flexible, and expressive data\n",
      "    structures designed to make working with \"relational\" or \"labeled\" data both\n",
      "    easy and intuitive. It aims to be the fundamental high-level building block for\n",
      "    doing practical, **real world** data analysis in Python. Additionally, it has\n",
      "    the broader goal of becoming **the most powerful and flexible open source data\n",
      "    analysis / manipulation tool available in any language**. It is already well on\n",
      "    its way toward this goal.\n",
      "    \n",
      "    Main Features\n",
      "    -------------\n",
      "    Here are just a few of the things that pandas does well:\n",
      "    \n",
      "      - Easy handling of missing data in floating point as well as non-floating\n",
      "        point data.\n",
      "      - Size mutability: columns can be inserted and deleted from DataFrame and\n",
      "        higher dimensional objects\n",
      "      - Automatic and explicit data alignment: objects can be explicitly aligned\n",
      "        to a set of labels, or the user can simply ignore the labels and let\n",
      "        `Series`, `DataFrame`, etc. automatically align the data for you in\n",
      "        computations.\n",
      "      - Powerful, flexible group by functionality to perform split-apply-combine\n",
      "        operations on data sets, for both aggregating and transforming data.\n",
      "      - Make it easy to convert ragged, differently-indexed data in other Python\n",
      "        and NumPy data structures into DataFrame objects.\n",
      "      - Intelligent label-based slicing, fancy indexing, and subsetting of large\n",
      "        data sets.\n",
      "      - Intuitive merging and joining data sets.\n",
      "      - Flexible reshaping and pivoting of data sets.\n",
      "      - Hierarchical labeling of axes (possible to have multiple labels per tick).\n",
      "      - Robust IO tools for loading data from flat files (CSV and delimited),\n",
      "        Excel files, databases, and saving/loading data from the ultrafast HDF5\n",
      "        format.\n",
      "      - Time series-specific functionality: date range generation and frequency\n",
      "        conversion, moving window statistics, date shifting and lagging.\n",
      "\n",
      "PACKAGE CONTENTS\n",
      "    _config (package)\n",
      "    _libs (package)\n",
      "    _testing\n",
      "    _typing\n",
      "    _version\n",
      "    api (package)\n",
      "    arrays (package)\n",
      "    compat (package)\n",
      "    conftest\n",
      "    core (package)\n",
      "    errors (package)\n",
      "    io (package)\n",
      "    plotting (package)\n",
      "    testing\n",
      "    tests (package)\n",
      "    tseries (package)\n",
      "    util (package)\n",
      "\n",
      "SUBMODULES\n",
      "    _hashtable\n",
      "    _lib\n",
      "    _tslib\n",
      "    offsets\n",
      "\n",
      "FUNCTIONS\n",
      "    __getattr__(name)\n",
      "\n",
      "DATA\n",
      "    IndexSlice = <pandas.core.indexing._IndexSlice object>\n",
      "    NA = <NA>\n",
      "    NaT = NaT\n",
      "    __docformat__ = 'restructuredtext'\n",
      "    __git_version__ = '29d6b0232aab9576afa896ff5bab0b994760495a'\n",
      "    describe_option = <pandas._config.config.CallableDynamicDoc object>\n",
      "    get_option = <pandas._config.config.CallableDynamicDoc object>\n",
      "    options = <pandas._config.config.DictWrapper object>\n",
      "    reset_option = <pandas._config.config.CallableDynamicDoc object>\n",
      "    set_option = <pandas._config.config.CallableDynamicDoc object>\n",
      "\n",
      "VERSION\n",
      "    1.0.1\n",
      "\n",
      "FILE\n",
      "    c:\\users\\dani\\anaconda3\\lib\\site-packages\\pandas\\__init__.py\n",
      "\n",
      "\n"
     ]
    }
   ],
   "source": [
    "import pandas as pd\n",
    "help(pd)"
   ]
  },
  {
   "cell_type": "code",
   "execution_count": 5,
   "metadata": {
    "ExecuteTime": {
     "end_time": "2020-06-18T03:44:28.713044Z",
     "start_time": "2020-06-18T03:44:28.709055Z"
    }
   },
   "outputs": [
    {
     "data": {
      "text/plain": [
       "'1.0.1'"
      ]
     },
     "execution_count": 5,
     "metadata": {},
     "output_type": "execute_result"
    }
   ],
   "source": [
    "pd.__version__"
   ]
  },
  {
   "cell_type": "code",
   "execution_count": null,
   "metadata": {},
   "outputs": [],
   "source": []
  }
 ],
 "metadata": {
  "kernelspec": {
   "display_name": "Python 3",
   "language": "python",
   "name": "python3"
  },
  "language_info": {
   "codemirror_mode": {
    "name": "ipython",
    "version": 3
   },
   "file_extension": ".py",
   "mimetype": "text/x-python",
   "name": "python",
   "nbconvert_exporter": "python",
   "pygments_lexer": "ipython3",
   "version": "3.7.6"
  },
  "toc": {
   "base_numbering": 1,
   "nav_menu": {},
   "number_sections": true,
   "sideBar": true,
   "skip_h1_title": false,
   "title_cell": "Table of Contents",
   "title_sidebar": "Contents",
   "toc_cell": false,
   "toc_position": {},
   "toc_section_display": true,
   "toc_window_display": false
  },
  "varInspector": {
   "cols": {
    "lenName": 16,
    "lenType": 16,
    "lenVar": 40
   },
   "kernels_config": {
    "python": {
     "delete_cmd_postfix": "",
     "delete_cmd_prefix": "del ",
     "library": "var_list.py",
     "varRefreshCmd": "print(var_dic_list())"
    },
    "r": {
     "delete_cmd_postfix": ") ",
     "delete_cmd_prefix": "rm(",
     "library": "var_list.r",
     "varRefreshCmd": "cat(var_dic_list()) "
    }
   },
   "types_to_exclude": [
    "module",
    "function",
    "builtin_function_or_method",
    "instance",
    "_Feature"
   ],
   "window_display": false
  }
 },
 "nbformat": 4,
 "nbformat_minor": 4
}
